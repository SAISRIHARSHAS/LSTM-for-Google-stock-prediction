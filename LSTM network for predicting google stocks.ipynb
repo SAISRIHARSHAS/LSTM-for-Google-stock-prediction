{
 "cells": [
  {
   "cell_type": "code",
   "execution_count": 1,
   "metadata": {
    "collapsed": false
   },
   "outputs": [
    {
     "name": "stderr",
     "output_type": "stream",
     "text": [
      "Using TensorFlow backend.\n"
     ]
    }
   ],
   "source": [
    "import numpy as np\n",
    "import matplotlib.pyplot as plt\n",
    "import pandas as pd\n",
    "from pandas import datetime\n",
    "import math, time\n",
    "import itertools\n",
    "# from sklearn import preprocessing\n",
    "import datetime\n",
    "from operator import itemgetter\n",
    "# from sklearn.metrics import mean_squared_error\n",
    "from math import sqrt\n",
    "from keras.models import Sequential\n",
    "from keras.layers.core import Dense, Dropout, Activation\n",
    "from keras.layers.recurrent import LSTM\n",
    "import seaborn as sns"
   ]
  },
  {
   "cell_type": "code",
   "execution_count": 2,
   "metadata": {
    "collapsed": false
   },
   "outputs": [
    {
     "data": {
      "text/html": [
       "<div>\n",
       "<table border=\"1\" class=\"dataframe\">\n",
       "  <thead>\n",
       "    <tr style=\"text-align: right;\">\n",
       "      <th></th>\n",
       "      <th>Date</th>\n",
       "      <th>Open</th>\n",
       "      <th>High</th>\n",
       "      <th>Low</th>\n",
       "      <th>Close</th>\n",
       "      <th>Volume</th>\n",
       "    </tr>\n",
       "  </thead>\n",
       "  <tbody>\n",
       "    <tr>\n",
       "      <th>0</th>\n",
       "      <td>24-Mar-17</td>\n",
       "      <td>842.00</td>\n",
       "      <td>844.00</td>\n",
       "      <td>829.10</td>\n",
       "      <td>835.14</td>\n",
       "      <td>2105682</td>\n",
       "    </tr>\n",
       "    <tr>\n",
       "      <th>1</th>\n",
       "      <td>23-Mar-17</td>\n",
       "      <td>841.39</td>\n",
       "      <td>841.69</td>\n",
       "      <td>833.00</td>\n",
       "      <td>839.65</td>\n",
       "      <td>3287669</td>\n",
       "    </tr>\n",
       "    <tr>\n",
       "      <th>2</th>\n",
       "      <td>22-Mar-17</td>\n",
       "      <td>849.48</td>\n",
       "      <td>855.35</td>\n",
       "      <td>847.00</td>\n",
       "      <td>849.80</td>\n",
       "      <td>1366749</td>\n",
       "    </tr>\n",
       "    <tr>\n",
       "      <th>3</th>\n",
       "      <td>21-Mar-17</td>\n",
       "      <td>870.06</td>\n",
       "      <td>873.47</td>\n",
       "      <td>847.69</td>\n",
       "      <td>850.14</td>\n",
       "      <td>2537978</td>\n",
       "    </tr>\n",
       "    <tr>\n",
       "      <th>4</th>\n",
       "      <td>20-Mar-17</td>\n",
       "      <td>869.48</td>\n",
       "      <td>870.34</td>\n",
       "      <td>864.66</td>\n",
       "      <td>867.91</td>\n",
       "      <td>1542199</td>\n",
       "    </tr>\n",
       "  </tbody>\n",
       "</table>\n",
       "</div>"
      ],
      "text/plain": [
       "        Date    Open    High     Low   Close   Volume\n",
       "0  24-Mar-17  842.00  844.00  829.10  835.14  2105682\n",
       "1  23-Mar-17  841.39  841.69  833.00  839.65  3287669\n",
       "2  22-Mar-17  849.48  855.35  847.00  849.80  1366749\n",
       "3  21-Mar-17  870.06  873.47  847.69  850.14  2537978\n",
       "4  20-Mar-17  869.48  870.34  864.66  867.91  1542199"
      ]
     },
     "execution_count": 2,
     "metadata": {},
     "output_type": "execute_result"
    }
   ],
   "source": [
    "# import data\n",
    "googl = pd.read_csv('googl.csv')\n",
    "googl.head(5)"
   ]
  },
  {
   "cell_type": "code",
   "execution_count": 3,
   "metadata": {
    "collapsed": false
   },
   "outputs": [],
   "source": [
    "# googl = googl.iloc[::-1]\n",
    "googl = googl.reindex(index= googl.index[::-1])\n",
    "# googl.head(5)"
   ]
  },
  {
   "cell_type": "code",
   "execution_count": 4,
   "metadata": {
    "collapsed": false
   },
   "outputs": [
    {
     "name": "stdout",
     "output_type": "stream",
     "text": [
      "<class 'pandas.core.frame.DataFrame'>\n",
      "RangeIndex: 3171 entries, 3170 to 0\n",
      "Data columns (total 6 columns):\n",
      "Date      3171 non-null object\n",
      "Open      3171 non-null float64\n",
      "High      3171 non-null float64\n",
      "Low       3171 non-null float64\n",
      "Close     3171 non-null float64\n",
      "Volume    3171 non-null int64\n",
      "dtypes: float64(4), int64(1), object(1)\n",
      "memory usage: 148.7+ KB\n"
     ]
    }
   ],
   "source": [
    "googl.info()"
   ]
  },
  {
   "cell_type": "code",
   "execution_count": 5,
   "metadata": {
    "collapsed": true
   },
   "outputs": [],
   "source": [
    "googl['Date']= pd.to_datetime(googl['Date'])"
   ]
  },
  {
   "cell_type": "code",
   "execution_count": 6,
   "metadata": {
    "collapsed": false
   },
   "outputs": [
    {
     "data": {
      "text/html": [
       "<div>\n",
       "<table border=\"1\" class=\"dataframe\">\n",
       "  <thead>\n",
       "    <tr style=\"text-align: right;\">\n",
       "      <th></th>\n",
       "      <th>Open</th>\n",
       "      <th>High</th>\n",
       "      <th>Close</th>\n",
       "    </tr>\n",
       "  </thead>\n",
       "  <tbody>\n",
       "    <tr>\n",
       "      <th>4</th>\n",
       "      <td>869.48</td>\n",
       "      <td>870.34</td>\n",
       "      <td>867.91</td>\n",
       "    </tr>\n",
       "    <tr>\n",
       "      <th>3</th>\n",
       "      <td>870.06</td>\n",
       "      <td>873.47</td>\n",
       "      <td>850.14</td>\n",
       "    </tr>\n",
       "    <tr>\n",
       "      <th>2</th>\n",
       "      <td>849.48</td>\n",
       "      <td>855.35</td>\n",
       "      <td>849.80</td>\n",
       "    </tr>\n",
       "    <tr>\n",
       "      <th>1</th>\n",
       "      <td>841.39</td>\n",
       "      <td>841.69</td>\n",
       "      <td>839.65</td>\n",
       "    </tr>\n",
       "    <tr>\n",
       "      <th>0</th>\n",
       "      <td>842.00</td>\n",
       "      <td>844.00</td>\n",
       "      <td>835.14</td>\n",
       "    </tr>\n",
       "  </tbody>\n",
       "</table>\n",
       "</div>"
      ],
      "text/plain": [
       "     Open    High   Close\n",
       "4  869.48  870.34  867.91\n",
       "3  870.06  873.47  850.14\n",
       "2  849.48  855.35  849.80\n",
       "1  841.39  841.69  839.65\n",
       "0  842.00  844.00  835.14"
      ]
     },
     "execution_count": 6,
     "metadata": {},
     "output_type": "execute_result"
    }
   ],
   "source": [
    "# googl.tail()\n",
    "googl = googl.drop(['Date', 'Volume', 'Low'], axis=1)\n",
    "googl.tail()"
   ]
  },
  {
   "cell_type": "code",
   "execution_count": 7,
   "metadata": {
    "collapsed": false
   },
   "outputs": [],
   "source": [
    "googl.to_csv('google-stock-24-3-2017.csv')"
   ]
  },
  {
   "cell_type": "code",
   "execution_count": 8,
   "metadata": {
    "collapsed": false
   },
   "outputs": [],
   "source": [
    "googl = pd.read_csv('google-stock-24-3-2017.csv')\n",
    "googl = googl.drop(['Unnamed: 0'], axis=1)"
   ]
  },
  {
   "cell_type": "code",
   "execution_count": 9,
   "metadata": {
    "collapsed": false
   },
   "outputs": [
    {
     "data": {
      "text/html": [
       "<div>\n",
       "<table border=\"1\" class=\"dataframe\">\n",
       "  <thead>\n",
       "    <tr style=\"text-align: right;\">\n",
       "      <th></th>\n",
       "      <th>Open</th>\n",
       "      <th>High</th>\n",
       "      <th>Close</th>\n",
       "    </tr>\n",
       "  </thead>\n",
       "  <tbody>\n",
       "    <tr>\n",
       "      <th>0</th>\n",
       "      <td>50.06</td>\n",
       "      <td>52.08</td>\n",
       "      <td>50.22</td>\n",
       "    </tr>\n",
       "    <tr>\n",
       "      <th>1</th>\n",
       "      <td>50.79</td>\n",
       "      <td>54.59</td>\n",
       "      <td>54.21</td>\n",
       "    </tr>\n",
       "    <tr>\n",
       "      <th>2</th>\n",
       "      <td>55.44</td>\n",
       "      <td>56.80</td>\n",
       "      <td>54.75</td>\n",
       "    </tr>\n",
       "    <tr>\n",
       "      <th>3</th>\n",
       "      <td>55.68</td>\n",
       "      <td>55.86</td>\n",
       "      <td>52.49</td>\n",
       "    </tr>\n",
       "    <tr>\n",
       "      <th>4</th>\n",
       "      <td>52.53</td>\n",
       "      <td>54.05</td>\n",
       "      <td>53.05</td>\n",
       "    </tr>\n",
       "  </tbody>\n",
       "</table>\n",
       "</div>"
      ],
      "text/plain": [
       "    Open   High  Close\n",
       "0  50.06  52.08  50.22\n",
       "1  50.79  54.59  54.21\n",
       "2  55.44  56.80  54.75\n",
       "3  55.68  55.86  52.49\n",
       "4  52.53  54.05  53.05"
      ]
     },
     "execution_count": 9,
     "metadata": {},
     "output_type": "execute_result"
    }
   ],
   "source": [
    "googl.head()"
   ]
  },
  {
   "cell_type": "code",
   "execution_count": 10,
   "metadata": {
    "collapsed": false
   },
   "outputs": [
    {
     "data": {
      "text/plain": [
       "3171"
      ]
     },
     "execution_count": 10,
     "metadata": {},
     "output_type": "execute_result"
    }
   ],
   "source": [
    "len(googl.as_matrix())"
   ]
  },
  {
   "cell_type": "code",
   "execution_count": 12,
   "metadata": {
    "collapsed": false
   },
   "outputs": [
    {
     "data": {
      "image/png": "[encoded data removed]",
      "text/plain": [
       "<matplotlib.figure.Figure at 0x7f361fc071d0>"
      ]
     },
     "metadata": {},
     "output_type": "display_data"
    }
   ],
   "source": [
    "plt.plot(googl['Close'])\n",
    "plt.show()"
   ]
  },
  {
   "cell_type": "code",
   "execution_count": 21,
   "metadata": {
    "collapsed": false
   },
   "outputs": [
    {
     "data": {
      "text/html": [
       "<div>\n",
       "<table border=\"1\" class=\"dataframe\">\n",
       "  <thead>\n",
       "    <tr style=\"text-align: right;\">\n",
       "      <th></th>\n",
       "      <th>Open</th>\n",
       "      <th>High</th>\n",
       "      <th>Close</th>\n",
       "    </tr>\n",
       "  </thead>\n",
       "  <tbody>\n",
       "    <tr>\n",
       "      <th>0</th>\n",
       "      <td>0.5006</td>\n",
       "      <td>0.5208</td>\n",
       "      <td>0.5022</td>\n",
       "    </tr>\n",
       "    <tr>\n",
       "      <th>1</th>\n",
       "      <td>0.5079</td>\n",
       "      <td>0.5459</td>\n",
       "      <td>0.5421</td>\n",
       "    </tr>\n",
       "    <tr>\n",
       "      <th>2</th>\n",
       "      <td>0.5544</td>\n",
       "      <td>0.5680</td>\n",
       "      <td>0.5475</td>\n",
       "    </tr>\n",
       "    <tr>\n",
       "      <th>3</th>\n",
       "      <td>0.5568</td>\n",
       "      <td>0.5586</td>\n",
       "      <td>0.5249</td>\n",
       "    </tr>\n",
       "    <tr>\n",
       "      <th>4</th>\n",
       "      <td>0.5253</td>\n",
       "      <td>0.5405</td>\n",
       "      <td>0.5305</td>\n",
       "    </tr>\n",
       "  </tbody>\n",
       "</table>\n",
       "</div>"
      ],
      "text/plain": [
       "     Open    High   Close\n",
       "0  0.5006  0.5208  0.5022\n",
       "1  0.5079  0.5459  0.5421\n",
       "2  0.5544  0.5680  0.5475\n",
       "3  0.5568  0.5586  0.5249\n",
       "4  0.5253  0.5405  0.5305"
      ]
     },
     "execution_count": 21,
     "metadata": {},
     "output_type": "execute_result"
    }
   ],
   "source": [
    "# NOrmalize data \n",
    "\n",
    "googl['Open'] = googl['Open']/100\n",
    "googl['Close'] = googl['Close']/100\n",
    "googl['High'] = googl['High']/100\n",
    "googl.head()"
   ]
  },
  {
   "cell_type": "code",
   "execution_count": 22,
   "metadata": {
    "collapsed": false
   },
   "outputs": [],
   "source": [
    "# d=googl.head(5)\n",
    "# # print(d.as_matrix())\n",
    "# d=d.as_matrix()\n",
    "# l=[]\n",
    "# for i in range(len(d) - 3):\n",
    "#     l.append(d[i:i+3])\n",
    "# l = np.array(l)\n",
    "# print(l)\n",
    "# print(l.shape)\n",
    "# row = round(0.9*l.shape[0])\n",
    "# print('trainx',l[:, :-1])\n",
    "# print('trainy', l[:,-1][:,-1])"
   ]
  },
  {
   "cell_type": "code",
   "execution_count": 44,
   "metadata": {
    "collapsed": false
   },
   "outputs": [],
   "source": [
    "def preprocess_data(stock, seq_len, split_frac=0.9):\n",
    "    amount_of_features = len(stock.columns)\n",
    "    data = stock.as_matrix() #pd.DataFrame(stock)\n",
    "    sequence_length = seq_len + 1\n",
    "    result = []\n",
    "    for index in range(len(data) - sequence_length):\n",
    "        result.append(data[index: index + sequence_length])\n",
    "\n",
    "    result = np.array(result)\n",
    "    row = round(split_frac* result.shape[0])\n",
    "    train = result[:int(row), :]\n",
    "    x_train = train[:, :-1]\n",
    "    y_train = train[:, -1][:,-1]\n",
    "    x_test = result[int(row):, :-1]\n",
    "    y_test = result[int(row):, -1][:,-1]\n",
    "\n",
    "    x_train = np.reshape(x_train, (x_train.shape[0], x_train.shape[1], amount_of_features))\n",
    "    x_test = np.reshape(x_test, (x_test.shape[0], x_test.shape[1], amount_of_features))  \n",
    "\n",
    "    return [x_train, y_train, x_test, y_test]"
   ]
  },
  {
   "cell_type": "code",
   "execution_count": 45,
   "metadata": {
    "collapsed": true
   },
   "outputs": [],
   "source": [
    "def build_model(layers):\n",
    "        d = 0.2\n",
    "        model = Sequential()\n",
    "        model.add(LSTM(128, input_shape=(layers[1], layers[0]), return_sequences=True))\n",
    "        model.add(Dropout(d))\n",
    "        model.add(LSTM(64, input_shape=(layers[1], layers[0]), return_sequences=False))\n",
    "        model.add(Dropout(d))\n",
    "        model.add(Dense(16,init='uniform',activation='relu'))        \n",
    "        model.add(Dense(1,init='uniform',activation='linear'))\n",
    "        model.compile(loss='mse',optimizer='adam',metrics=['accuracy'])\n",
    "        return model"
   ]
  },
  {
   "cell_type": "code",
   "execution_count": 46,
   "metadata": {
    "collapsed": false
   },
   "outputs": [
    {
     "name": "stdout",
     "output_type": "stream",
     "text": [
      "X_train (2826, 30, 3)\n",
      "y_train (2826,)\n",
      "X_test (314, 30, 3)\n",
      "y_test (314,)\n"
     ]
    }
   ],
   "source": [
    "X_train, y_train, X_test, y_test = load_data(googl,seq_len=30)\n",
    "print(\"X_train\", X_train.shape)\n",
    "print(\"y_train\", y_train.shape)\n",
    "print(\"X_test\", X_test.shape)\n",
    "print(\"y_test\", y_test.shape)"
   ]
  },
  {
   "cell_type": "code",
   "execution_count": 47,
   "metadata": {
    "collapsed": false
   },
   "outputs": [
    {
     "name": "stderr",
     "output_type": "stream",
     "text": [
      "/home/vyom/anaconda3/envs/CERN/lib/python3.5/site-packages/keras/legacy/interfaces.py:86: UserWarning: Update your `Dense` call to the Keras 2 API: `Dense(16, kernel_initializer=\"uniform\", activation=\"relu\")`\n",
      "  '` call to the Keras 2 API: ' + signature)\n",
      "/home/vyom/anaconda3/envs/CERN/lib/python3.5/site-packages/keras/legacy/interfaces.py:86: UserWarning: Update your `Dense` call to the Keras 2 API: `Dense(1, kernel_initializer=\"uniform\", activation=\"linear\")`\n",
      "  '` call to the Keras 2 API: ' + signature)\n"
     ]
    }
   ],
   "source": [
    "model = build_model([3,30,1])"
   ]
  },
  {
   "cell_type": "code",
   "execution_count": 39,
   "metadata": {
    "collapsed": false
   },
   "outputs": [
    {
     "name": "stderr",
     "output_type": "stream",
     "text": [
      "/home/vyom/anaconda3/envs/CERN/lib/python3.5/site-packages/keras/models.py:826: UserWarning: The `nb_epoch` argument in `fit` has been renamed `epochs`.\n",
      "  warnings.warn('The `nb_epoch` argument in `fit` '\n"
     ]
    },
    {
     "name": "stdout",
     "output_type": "stream",
     "text": [
      "Train on 2543 samples, validate on 283 samples\n",
      "Epoch 1/10\n",
      "17s - loss: 9.6631 - acc: 0.0000e+00 - val_loss: 36.8415 - val_acc: 0.0000e+00\n",
      "Epoch 2/10\n",
      "16s - loss: 9.3621 - acc: 0.0000e+00 - val_loss: 36.0195 - val_acc: 0.0000e+00\n",
      "Epoch 3/10\n",
      "18s - loss: 8.9040 - acc: 0.0000e+00 - val_loss: 34.7682 - val_acc: 0.0000e+00\n",
      "Epoch 4/10\n",
      "22s - loss: 8.2091 - acc: 0.0000e+00 - val_loss: 32.7563 - val_acc: 0.0000e+00\n",
      "Epoch 5/10\n",
      "24s - loss: 7.2242 - acc: 0.0000e+00 - val_loss: 30.2533 - val_acc: 0.0000e+00\n",
      "Epoch 6/10\n",
      "26s - loss: 6.1438 - acc: 0.0000e+00 - val_loss: 27.4985 - val_acc: 0.0000e+00\n",
      "Epoch 7/10\n",
      "27s - loss: 5.0239 - acc: 0.0000e+00 - val_loss: 24.4215 - val_acc: 0.0000e+00\n",
      "Epoch 8/10\n",
      "28s - loss: 3.9238 - acc: 0.0000e+00 - val_loss: 21.1076 - val_acc: 0.0000e+00\n",
      "Epoch 9/10\n",
      "29s - loss: 2.9140 - acc: 0.0000e+00 - val_loss: 17.7448 - val_acc: 0.0000e+00\n",
      "Epoch 10/10\n",
      "30s - loss: 2.1626 - acc: 0.0000e+00 - val_loss: 14.6377 - val_acc: 0.0000e+00\n"
     ]
    },
    {
     "data": {
      "text/plain": [
       "<keras.callbacks.History at 0x7f35ec9f7ef0>"
      ]
     },
     "execution_count": 39,
     "metadata": {},
     "output_type": "execute_result"
    }
   ],
   "source": [
    "model.fit(\n",
    "    X_train,\n",
    "    y_train,\n",
    "    batch_size=512,\n",
    "    nb_epoch=10,\n",
    "    validation_split=0.1,\n",
    "    verbose=2)"
   ]
  },
  {
   "cell_type": "code",
   "execution_count": 51,
   "metadata": {
    "collapsed": false
   },
   "outputs": [
    {
     "name": "stdout",
     "output_type": "stream",
     "text": [
      "Train Score: 12.52 MSE (3.54 RMSE)\n",
      "Test Score: 60.66 MSE (7.79 RMSE)\n"
     ]
    }
   ],
   "source": [
    "\n",
    "trainScore = model.evaluate(X_train, y_train, verbose=0)\n",
    "print('Train Score: %.2f MSE (%.2f RMSE)' % (trainScore[0], math.sqrt(trainScore[0])))\n",
    "\n",
    "testScore = model.evaluate(X_test, y_test, verbose=0)\n",
    "print('Test Score: %.2f MSE (%.2f RMSE)' % (testScore[0], math.sqrt(testScore[0])))"
   ]
  },
  {
   "cell_type": "code",
   "execution_count": 50,
   "metadata": {
    "collapsed": false
   },
   "outputs": [
    {
     "data": {
      "image/png": "[encoded data removed]",
      "text/plain": [
       "<matplotlib.figure.Figure at 0x7f35ebdc2fd0>"
      ]
     },
     "metadata": {},
     "output_type": "display_data"
    }
   ],
   "source": [
    "p = model.predict(X_test)\n",
    "\n",
    "plt.plot(p, color='g', label='predictions')\n",
    "# plt.plot(y_test, color='b', label='actual data')\n",
    "plt.show()\n",
    "\n",
    "# plt.plot(p, 'g', label='prdictions')\n",
    "# plt.show()"
   ]
  },
  {
   "cell_type": "code",
   "execution_count": null,
   "metadata": {
    "collapsed": false
   },
   "outputs": [],
   "source": []
  },
  {
   "cell_type": "code",
   "execution_count": null,
   "metadata": {
    "collapsed": true
   },
   "outputs": [],
   "source": []
  }
 ],
 "metadata": {
  "kernelspec": {
   "display_name": "Python 3",
   "language": "python",
   "name": "python3"
  },
  "language_info": {
   "codemirror_mode": {
    "name": "ipython",
    "version": 3
   },
   "file_extension": ".py",
   "mimetype": "text/x-python",
   "name": "python",
   "nbconvert_exporter": "python",
   "pygments_lexer": "ipython3",
   "version": "3.5.3"
  }
 },
 "nbformat": 4,
 "nbformat_minor": 2
}
